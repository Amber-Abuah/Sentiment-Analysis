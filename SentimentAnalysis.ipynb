{
 "cells": [
  {
   "cell_type": "code",
   "execution_count": 1,
   "id": "707ea47c-d410-4c1b-ae1b-1ca8a3683c26",
   "metadata": {},
   "outputs": [],
   "source": [
    "from nltk.sentiment.vader import SentimentIntensityAnalyzer\n",
    "from nltk.stem import WordNetLemmatizer\n",
    "#nltk.download(\"all\")\n",
    "\n",
    "sentiment_analyzer = SentimentIntensityAnalyzer()\n",
    "lemmatizer = WordNetLemmatizer()\n",
    "example_text = \"I love it! It does everything amazingly well.\""
   ]
  },
  {
   "cell_type": "code",
   "execution_count": 2,
   "id": "5248b9a7-a9c0-4968-bf2d-7c48124ff495",
   "metadata": {},
   "outputs": [
    {
     "data": {
      "text/plain": [
       "'love ! everything amazingly well .'"
      ]
     },
     "execution_count": 2,
     "metadata": {},
     "output_type": "execute_result"
    }
   ],
   "source": [
    "from nltk.corpus import stopwords\n",
    "from nltk.tokenize import word_tokenize\n",
    "\n",
    "# Preprocess text data: tokenize -> remove stop words -> lemmetize\n",
    "def preprocess_text(text):\n",
    "    text = text.lower()\n",
    "    tokens = word_tokenize(text)\n",
    "    relevant_tokens = [t for t in tokens if t not in stopwords.words(\"english\")]\n",
    "    lemm_tokens = [lemmatizer.lemmatize(t) for t in relevant_tokens]\n",
    "    return \" \".join(lemm_tokens)\n",
    "    \n",
    "preprocess_text(example_text)"
   ]
  },
  {
   "cell_type": "code",
   "execution_count": 3,
   "id": "7f8ab2d3-95ef-4ba7-a091-700243921cb2",
   "metadata": {},
   "outputs": [
    {
     "data": {
      "text/plain": [
       "'Positive'"
      ]
     },
     "execution_count": 3,
     "metadata": {},
     "output_type": "execute_result"
    }
   ],
   "source": [
    "score_threshold = 0.05\n",
    "\n",
    "# Compound score <= -0.05: Negative. Compound score >= 0.05: Positive. Otherwise: Neutral.\n",
    "def analyze_sentiment(text):\n",
    "    scores = sentiment_analyzer.polarity_scores(text)\n",
    "    compound_score = scores[\"compound\"]\n",
    "    label = \"Positive\" if compound_score >= score_threshold else \"Negative\" if compound_score <= -score_threshold else \"Neutral\"\n",
    "    return label\n",
    "\n",
    "analyze_sentiment(preprocess_text(example_text))"
   ]
  },
  {
   "cell_type": "code",
   "execution_count": 4,
   "id": "038cdab4-2a56-4004-9aeb-d5fe3a0cd990",
   "metadata": {},
   "outputs": [
    {
     "data": {
      "text/plain": [
       "0                                              No issues.\n",
       "1       Purchased this for my device, it worked as adv...\n",
       "2       it works as expected. I should have sprung for...\n",
       "3       This think has worked out great.Had a diff. br...\n",
       "4       Bought it with Retail Packaging, arrived legit...\n",
       "                              ...                        \n",
       "4910    I bought this Sandisk 16GB Class 10 to use wit...\n",
       "4911    Used this for extending the capabilities of my...\n",
       "4912    Great card that is very fast and reliable. It ...\n",
       "4913    Good amount of space for the stuff I want to d...\n",
       "4914    I've heard bad things about this 64gb Micro SD...\n",
       "Name: reviewText, Length: 4915, dtype: object"
      ]
     },
     "execution_count": 4,
     "metadata": {},
     "output_type": "execute_result"
    }
   ],
   "source": [
    "import pandas as pd\n",
    "\n",
    "df = pd.read_csv(\"amazon_reviews.csv\")\n",
    "df[\"reviewText\"]"
   ]
  },
  {
   "cell_type": "code",
   "execution_count": 5,
   "id": "7a55c413-1111-49de-aeff-e5b617ebd75a",
   "metadata": {},
   "outputs": [],
   "source": [
    "sentiments = []\n",
    "\n",
    "for text in df[\"reviewText\"]:\n",
    "    sentiments.append([text, analyze_sentiment(preprocess_text(text))])"
   ]
  },
  {
   "cell_type": "code",
   "execution_count": 6,
   "id": "9a3b1418-17fa-4dc5-93cf-fefe76f6e700",
   "metadata": {},
   "outputs": [
    {
     "name": "stdout",
     "output_type": "stream",
     "text": [
      "Sentiment saved sucessfully to sentiment_analysis_results.csv!\n"
     ]
    }
   ],
   "source": [
    "import csv\n",
    "\n",
    "with open(\"sentiment_analysis_results.csv\", mode=\"w\", newline=\"\") as file:\n",
    "    writer = csv.writer(file)\n",
    "    writer.writerow([\"Text\", \"Sentiment\"])\n",
    "    writer.writerows(sentiments)\n",
    "\n",
    "print(\"Sentiment saved sucessfully to sentiment_analysis_results.csv!\")"
   ]
  }
 ],
 "metadata": {
  "kernelspec": {
   "display_name": "Python 3 (ipykernel)",
   "language": "python",
   "name": "python3"
  },
  "language_info": {
   "codemirror_mode": {
    "name": "ipython",
    "version": 3
   },
   "file_extension": ".py",
   "mimetype": "text/x-python",
   "name": "python",
   "nbconvert_exporter": "python",
   "pygments_lexer": "ipython3",
   "version": "3.11.8"
  }
 },
 "nbformat": 4,
 "nbformat_minor": 5
}
